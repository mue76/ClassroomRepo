{
 "cells": [
  {
   "cell_type": "markdown",
   "id": "3576ab7e",
   "metadata": {},
   "source": [
    "1. 개인 저장소에 올릴 경우\n",
    "\n",
    "1) git init\n",
    "2) 환경변수\n",
    "git config --global user.name 'ssupjj'\n",
    "git config --global user.email ssupjj@gmail.com\n",
    "\n",
    "3) git add 'python_programming.ipynb'\n",
    "4) git commit -m 'python_programming\n",
    "5) git log\n",
    "\n",
    "------------------------------------------------\n",
    "\n",
    "6) git remote -v\n",
    "\n",
    "- 이미 다른게 있는 경우:\n",
    "git remote remove origin\n",
    "git remote add origin https://github.com/ssupjj/git-workshop\n",
    "\n",
    "- 아무것도 없을 경우:\n",
    "git remote add origin https://github.com/ssupjj/git-workshop\n",
    "\n",
    "7) git push origin master\n",
    "\n",
    "2. 공동 저장소에서 작업할 때 \n",
    "리더: 원격저장소에 repo를 만들고 access 권한을 팀원에게 주기\n",
    "팀원: ㄹ로컬저장소와 원격저장소의 동기를 맞춤\n",
    "git clone https://github.com/ssupjj/git-workshop . # 한칸 띄우고 .\n",
    "\n",
    "작업한 파일을 원격저장소에 올릴 수 있음\n",
    "\n",
    "이후 다른 팀원이 원격저장소에 다른 내용을 업데이트 한 경우에는:\n",
    "원격저장소와 로컬저장소의 동기를 다시 맞추기\n",
    "git pull origin master\n",
    "\n",
    "작업............"
   ]
  }
 ],
 "metadata": {
  "kernelspec": {
   "display_name": "Python 3",
   "language": "python",
   "name": "python3"
  },
  "language_info": {
   "codemirror_mode": {
    "name": "ipython",
    "version": 3
   },
   "file_extension": ".py",
   "mimetype": "text/x-python",
   "name": "python",
   "nbconvert_exporter": "python",
   "pygments_lexer": "ipython3",
   "version": "3.8.8"
  }
 },
 "nbformat": 4,
 "nbformat_minor": 5
}
